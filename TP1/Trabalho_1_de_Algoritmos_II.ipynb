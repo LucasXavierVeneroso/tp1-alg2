{
  "nbformat": 4,
  "nbformat_minor": 0,
  "metadata": {
    "colab": {
      "provenance": [],
      "collapsed_sections": [
        "yt5DYNjS-vkm",
        "dXcMC8CbN21N",
        "0_FQe92yE4DP",
        "qTobsGNL8Nry",
        "XqXAsPu8c7--",
        "TbakJz31agBJ",
        "JQwEzMrqGE-p"
      ]
    },
    "kernelspec": {
      "name": "python3",
      "display_name": "Python 3"
    },
    "language_info": {
      "name": "python"
    }
  },
  "cells": [
    {
      "cell_type": "markdown",
      "source": [
        "# Trabalho Prático 1: Geometria Computacional\n",
        "**Nome:** Lucas Xavier Veneroso\n",
        "\n",
        "**Matricula:** 2016065138\n",
        "\n",
        "**Nome:** Sarah Oliveira Elias\n",
        "\n",
        "**Matricula:** 2018048478"
      ],
      "metadata": {
        "id": "PCIovz6rI5hV"
      }
    },
    {
      "cell_type": "markdown",
      "source": [
        "# Introdução"
      ],
      "metadata": {
        "id": "503rYPNE7tAG"
      }
    },
    {
      "cell_type": "markdown",
      "source": [
        "Neste trabalho procuramos conseguir, dado um conjunto de dados, cada um com dois atributos (um representando sua posição em relação ao eixo x e outro representando-a em relação ao eixo y, fazendo assim com que o dado seja um ponto em um espaco 2-d), separáveis em duas classes:\n",
        "\n",
        "\n",
        "\n",
        "*  Uma função que determina se essas duas classes são linearmente separáveis, isto é, se não há interseção entre as áreas que cada conjunto de dados ocupa\n",
        "*   Se são linearmente separáveis, um modelo que consiga classificar um ponto novo, determinando a qual classe esse ponto pertence\n",
        "*   E, por fim, calcular o quão bom esse modelo é, baseado nas métricas de precisão, revocação e f1-score \n",
        "\n"
      ],
      "metadata": {
        "id": "-zVeMIwP7y-2"
      }
    },
    {
      "cell_type": "markdown",
      "source": [
        "# Preparações"
      ],
      "metadata": {
        "id": "9oP29BXR-PKe"
      }
    },
    {
      "cell_type": "markdown",
      "source": [
        "## Bibliotecas Incluídas"
      ],
      "metadata": {
        "id": "GpBRoaqw-YCo"
      }
    },
    {
      "cell_type": "markdown",
      "source": [
        "Aqui temos as bibliotecas incluídas e imports feitos pelo grupo para a implementação deste projeto:"
      ],
      "metadata": {
        "id": "7ATIfnEc3gLE"
      }
    },
    {
      "cell_type": "code",
      "source": [
        "from functools import cmp_to_key\n",
        "import matplotlib.pyplot as plt\n",
        "import numpy as np\n",
        "import pandas as pd"
      ],
      "metadata": {
        "id": "lXnu5itSvKye"
      },
      "execution_count": null,
      "outputs": []
    },
    {
      "cell_type": "markdown",
      "source": [
        "## Classes"
      ],
      "metadata": {
        "id": "yt5DYNjS-vkm"
      }
    },
    {
      "cell_type": "markdown",
      "source": [
        "Construindo duas classes que serão utilizadas em várias seções dos algoritmos usados. Entraremos em mais detalhes sobre aspectos específicos destas classes que julgamos necessários de esclarecimento:\n",
        "\n",
        "A classe Ponto é bem simples: cria um ponto com três atributos. Dois desses atributos são auto-explicativos: o x e y do ponto. O terceiro atributo, endpointFlag, que é inicialmente inicializado como nada, é utilizado e inicializado pela classe Segmento para saber qual dos pontos é o inicial (endpointFlag = 0) e qual é o final (endpointFlag = 1) em relação à suas coordenadas x.\n",
        "\n",
        "Sobre a classe Segmento, temos como um dos elementos notáveis a presença de uma hullFlag, que tem uma função similar à Flag anteriormente discutida, neste caso um indicador de qual envoltória o segmento pertence. Outra parte notável dessa classe é os pontos pertencentes à ela serem criados dentro do inicalizador e não passados de fora. A razão para tal vem do modo como Python funciona. Em Python toda variável e objeto é passada \"por referencia\" o que significa que, se passássemos um objeto Ponto, já existente, para o segmento, ao colocar uma endpoint flag nesse Ponto, todos os outros segmentos que compartilham aquele Ponto também teriam a endpoint flag de um de seus pontos alterada, já que todos esses segmentos estão acessando exatamente o mesmo objeto e não uma cópia dele. Isso nos deixaria com segmentos com dois pontos \"finais\" ou dois pontos \"iniciais\", o que é problemático. Para resolver este problema nós passamos e utilizamos os valores de x e y de dois pontos e o inicializador constrói o Ponto dentro dele, a partir destes valores, fazendo com que essa instância do Ponto, diferentemente do exemplo anterior que era mais global, seja local e pertencente apenas àquele segmento especifico. O último aspecto notável é o primeiro if que confere se os dois pontos do segmento possuem o mesmo x, isto é, se o segmento é ortogonal ao eixo x. Sendo esse o caso temos que modificar um dos pontos para estar a direita (em relação a x) do outro, caso contrário, o algoritmo para descobrir se há interseção de segmentos pode ter um comportamento indesejado."
      ],
      "metadata": {
        "id": "fIsjfF2e4W99"
      }
    },
    {
      "cell_type": "code",
      "source": [
        "class Ponto:\n",
        "  def __init__(ponto,x,y,endpointFlag = None):\n",
        "    ponto.x = x\n",
        "    ponto.y = y\n",
        "    #Flag definida por um segmento para determinar qual é o endpoint da direita e qual é o da esquerda\n",
        "    ponto.endpointFlag = endpointFlag \n",
        "\n",
        "\n",
        "class Segmento:\n",
        "  def __init__(seg,p0x,p0y,p1x,p1y,hullFlag = None): \n",
        "    #Condiçao necessaria para funcionamento da Varredura Linear\n",
        "    if p0x == p1x:\n",
        "      p1x += 0.01\n",
        "    #Assignment da endpointFlag baseado na posiçao relativa a x das pontas do segmento\n",
        "    if p0x<p1x:\n",
        "      p0endpointFlag = 0\n",
        "      p1endpointFlag = 1\n",
        "    else:\n",
        "      p0endpointFlag = 1\n",
        "      p1endpointFlag = 0\n",
        "    p0 = Ponto(p0x,p0y,p0endpointFlag)\n",
        "    p1 = Ponto(p1x,p1y,p1endpointFlag)\n",
        "    seg.endpointA = p0\n",
        "    seg.endpointB = p1\n",
        "    #Flag definida por uma envoltória para determinar à qual envoltória o segmento pertence\n",
        "    seg.hullFlag = hullFlag"
      ],
      "metadata": {
        "id": "_17turEj4Zus"
      },
      "execution_count": null,
      "outputs": []
    },
    {
      "cell_type": "markdown",
      "source": [
        "## Funçoes Basicas/\"Primitivas\""
      ],
      "metadata": {
        "id": "dXcMC8CbN21N"
      }
    },
    {
      "cell_type": "markdown",
      "source": [
        "Essas funções são simples e universais para vários problemas, sendo uma delas a primitiva para determinar posição de um ponto/segmento em relação a outro vista em sala de aula."
      ],
      "metadata": {
        "id": "akHSjJz13eAO"
      }
    },
    {
      "cell_type": "code",
      "source": [
        "# direçao relativa entre os segmentos p0p1 e p0p2\n",
        "def direcao(p0, p1, p2):\n",
        "  return ( (p1.x - p0.x) * (p2.y - p0.y) ) - ( (p2.x - p0.x) * (p1.y - p0.y) ) \n",
        "\n",
        "# quadrado da distancia entre dois pontos\n",
        "def distancia(p1, p2):\n",
        "  return ( (p1.x - p2.x) * (p1.x - p2.x) + (p1.y - p2.y) * (p1.y - p2.y) )"
      ],
      "metadata": {
        "id": "ilRgJrPQ3dEv"
      },
      "execution_count": null,
      "outputs": []
    },
    {
      "cell_type": "markdown",
      "source": [
        "# Algoritmos Base Usados"
      ],
      "metadata": {
        "id": "j_o3g3oaVm7U"
      }
    },
    {
      "cell_type": "markdown",
      "source": [
        "## Envoltória Convexa"
      ],
      "metadata": {
        "id": "0_FQe92yE4DP"
      }
    },
    {
      "cell_type": "markdown",
      "source": [
        "Para o problema de se criar uma envoltória convexa para cada classe dos dados foi escolhido o algoritmo de Varredura de Graham para ser implementado. Segue sua implementação:"
      ],
      "metadata": {
        "id": "x-oBJUC7zRrp"
      }
    },
    {
      "cell_type": "markdown",
      "source": [
        "### Varredura de Graham"
      ],
      "metadata": {
        "id": "qTobsGNL8Nry"
      }
    },
    {
      "cell_type": "markdown",
      "source": [
        "O primeiro passo para a Varredura de Graham é achar um ponto âncora, aqui chamado de pancora. Note que a variável é declarada como global, escolha feita tendo em mente seu uso em funções mais a frente. Temos também a função que acha qual é o ponto âncora entre um conjunto de pontos, sendo ele o ponto que tem o menor y e em caso de empate o mais a esquerda."
      ],
      "metadata": {
        "id": "J5DkjkX2zIeY"
      }
    },
    {
      "cell_type": "code",
      "source": [
        "pancora = 0\n",
        "\n",
        "def encontraAncora(points):\n",
        "  ancora = points[0]\n",
        "  for i in range(0, len(points)):\n",
        "    if ( (points[i].y < ancora.y) or (points[i].y == ancora.y and points[i].x < ancora.x) ):\n",
        "      ancora = points[i]\n",
        "      index = i\n",
        "  return ancora"
      ],
      "metadata": {
        "id": "PvsMliauCdvA"
      },
      "execution_count": null,
      "outputs": []
    },
    {
      "cell_type": "markdown",
      "metadata": {
        "id": "G3cyvYLTiOSN"
      },
      "source": [
        "A função compara aqui implementada é uma função auxiliar que será usada para ordenar os pontos de acordo com seu ângulo polar com o âncora, comparando dois pontos e retornando um indicador de qual dos dois é o com menor coordenada. Aqui vemos um dos motivos para a necessidade de pancora ser uma variável global: A função compara, por ser usada como uma função key (cmp_to_key) para comparação só pode receber dois parametros (os elementos a serem comparados). Como esses dois elementos estão sendo comparados com um terceiro (o ponto âncora) para determinar sua ordem, e este terceiro não pode ser passado para a função, podemos utilizar esse ponto pivô da comparaçao dentro da função sem problemas se ele for uma variavel global.   "
      ]
    },
    {
      "cell_type": "code",
      "source": [
        "# Função para ordenar os pontos de acordo com a coordenada polar\n",
        "def compara(p1, p2):\n",
        "  d = direcao(pancora, p1, p2)\n",
        "\n",
        "  if (d == 0):\n",
        "    if (distancia(pancora, p1) <= distancia(pancora, p2)):\n",
        "      return 1\n",
        "    else:\n",
        "      return -1\n",
        "  else:\n",
        "    if (d > 0):\n",
        "      return 1\n",
        "    else:\n",
        "      return -1"
      ],
      "metadata": {
        "id": "Wa8Bj_DsvkoP"
      },
      "execution_count": null,
      "outputs": []
    },
    {
      "cell_type": "markdown",
      "source": [
        "A implementação do algoritmo de Graham é bem parecida com àquela vista em aula: Nós descobrimos o ponto âncora (e o colocamos numa variável global); ordenamos os pontos em relação à âncora (usando o sorted de python com a função compara provendo a chave); filtramos fora aqueles que tem o mesmo ângulo polar, escolhendo aquele que é mais próximo do âncora; e criamos a envoltória utilizando a primitiva para calcular em qual direção o próximo ponto está (modificando a envoltória sempre que houver um desvio para a direita no caminho). No final a função nos retorna uma lista de pontos vértices da envoltória."
      ],
      "metadata": {
        "id": "gZM3xKI_64VR"
      }
    },
    {
      "cell_type": "code",
      "source": [
        "def graham(pontos):\n",
        "\n",
        "  global pancora\n",
        "  pancora = encontraAncora(pontos)\n",
        "  \n",
        "  # ordena de acordo com o angulo polar em relacao ao ancora\n",
        "  pontosOrdenados = sorted(pontos, key=cmp_to_key(compara))\n",
        "\n",
        "  # retira pontos com o mesmo angulo polar\n",
        "  indices = []\n",
        "  pontosOrdenados = np.insert(pontosOrdenados, 0, pancora, axis=0)\n",
        "  for i in range(1, len(pontosOrdenados) - 1):\n",
        "    d = direcao(pancora, pontosOrdenados[i], pontosOrdenados[i + 1])\n",
        "    # mesmo angulo polar - remove o mais distante do ponto ancora\n",
        "    if ( d == 0 ):\n",
        "      if ( distancia(pancora, pontosOrdenados[i]) > distancia(pancora, pontosOrdenados[i+1]) ):\n",
        "        indices.append(i+1)\n",
        "      else:\n",
        "        indices.append(i)\n",
        "  pontos = np.delete(pontosOrdenados, indices)\n",
        "\n",
        "  # inicia a expansao da envoltoria\n",
        "  solucao = []\n",
        "  solucao.append(pontos[0])\n",
        "  solucao.append(pontos[1])\n",
        "  solucao.append(pontos[2])\n",
        "\n",
        "  for i in range(3, len(pontos)):\n",
        "    while(len(solucao) > 1 and (solucao[-2]) and direcao(solucao[-2], solucao[-1], pontos[i]) >= 0):\n",
        "      solucao.pop()\n",
        "    solucao.append(pontos[i])\n",
        "  \n",
        "  return solucao"
      ],
      "metadata": {
        "id": "CzfUgn1WZGqO"
      },
      "execution_count": null,
      "outputs": []
    },
    {
      "cell_type": "markdown",
      "source": [
        "## Interseção Entre Segmentos em um Conjunto"
      ],
      "metadata": {
        "id": "tS-febfz4dYw"
      }
    },
    {
      "cell_type": "markdown",
      "source": [
        "Para resolver este problema foi implementado o algoritmo de Varredura Linear, a seguir temos a implementação de funções auxiliares e da própria função em si:"
      ],
      "metadata": {
        "id": "thlIM4oB-NDg"
      }
    },
    {
      "cell_type": "markdown",
      "source": [
        "### Varredura Linear"
      ],
      "metadata": {
        "id": "XqXAsPu8c7--"
      }
    },
    {
      "cell_type": "markdown",
      "source": [
        "O primeiro passo para conseguir implementar a Varredura Linear é implementar uma função que consiga determinar se dois segmentos se interceptam, uma vez que esta é crucial para o funcionamento do algoritmo. A função para interseção entre segmentos foi implementada exatamente igual àquela vista em aula; utilizando a primitiva de direção para determinar se as pontas do outro segmento estao em direções diferentes em relação à um segmento. Essa função requer também uma outra função auxiliar no caso de uma interseção onde um dos pontos de um segmento se encontra no meio do outro."
      ],
      "metadata": {
        "id": "scYxHy7yCNGP"
      }
    },
    {
      "cell_type": "code",
      "execution_count": null,
      "metadata": {
        "id": "b2slEgWxcvqP"
      },
      "outputs": [],
      "source": [
        "#Caso especial de ponto no segmento\n",
        "def pontoNoSegmento(p0,p1,p2):\n",
        "  if ((p0.x<=p2.x<=p1.x) or (p1.x<=p2.x<=p0.x)) and ((p0.y<=p2.y<=p1.y) or (p1.y<=p2.y<=p0.y)):\n",
        "    return True\n",
        "  return False\n",
        "\n",
        "#Implementaçao igual à vista em aula para saber se dois segmentos se interceptam\n",
        "def intersecaoSegmentos(p1,p2,p3,p4):\n",
        "  d1 = direcao(p3,p4,p1)\n",
        "  d2 = direcao(p3,p4,p2)\n",
        "  d3 = direcao(p1,p2,p3)\n",
        "  d4 = direcao(p1,p2,p4)\n",
        "  if ((d1>0 and d2<0) or (d1<0 and d2>0)) and ((d3>0 and d4<0) or (d3<0 and d4>0)):\n",
        "    return True\n",
        "  elif d1 == 0 and pontoNoSegmento(p3,p4,p1):\n",
        "    return True\n",
        "  elif d2 == 0 and pontoNoSegmento(p3,p4,p2):\n",
        "    return True\n",
        "  elif d3 == 0 and pontoNoSegmento(p1,p2,p3):\n",
        "    return True\n",
        "  elif d4 == 0 and pontoNoSegmento(p1,p2,p4):\n",
        "    return True\n",
        "  else: return False"
      ]
    },
    {
      "cell_type": "markdown",
      "source": [
        "Antes de implementar a varredura, implementamos a função above e below que, dado um vetor/lista de segmentos e um segmento, acha em qual posição este segmento está dentro da lista (utilizando a função index; otimizações possivelmente podem ser feitas uma vez que a complexidade de index é O(n) mas qualquer otimização, se possível, demandaria um tempo e esforço maior do que os possíveis ganhos que teríamos, principalmente considerando que os segmentos não estão ordenados de acordo com seus índices originais e sim de acordo com os pontos de começo e fim de segmento que são lidos em varreduraLinear) e retorna se existe um segmento \"acima\" (numa posição adjacente anterior no vetor) e qual é esse segmento e se existe um segmento \"abaixo\" (numa posiçao adjacente posterior no vetor) e qual é esse segmento respectivamente.\n",
        "\n",
        "Depois implementamos uma função que insere um segmento em T que tem como auxiliar uma função que nos informa o y da interseção entre uma reta vertical x e um segmento (descobrindo a equação da reta à qual o segmento pertence). Para isso precisamos de T, o segmento a ser inserido e o ponto onde estamos. Para saber a posiçao do segmento, nós comparamos os y das interseções da reta vertical da varredura com todos os segmentos. Quando chegarmos no final de T ou acharmos um segmento cuja interseçao está em um y menor, achamos a posiçao onde o segmento deve entrar.\n",
        "\n",
        "Na função varreduraLinear há vários aspectos notáveis sobre a implementação: \n",
        "\n",
        "O primeiro deles é o sort que roda três vezes logo depois que o vetor de pontos é preenchido. A funçao desses três sorts é essencialmente garantir o critério de desempates, uma vez que a função sort de python, encontrando empates, mantém os objetos na ordem em que eles estavam préviamente. Se primeiro fazemos um sort baseado no y e depois um baseado na flag de endpoint, toda vez que houver um empate, o que tiver menor y fica primeiro. Depois, quando fazemos um sort baseado em x, quando houver empate, a ordem se mantem, ou seja, os pontos que forem iniciais virao primeiro, ja que foram organizados assim anteriormente, e se houver empate aí os pontos com menor y virão primeiro. Como isso aumenta a complexidade apenas por um fator numérico de 3 comparado a um único sort, não há uma desvantagem enorme em se implementar a política de desempate desta maneira.\n",
        "\n",
        "A segunda coisa notável é, após identificar que há uma possível interseção ao inserir um segmento em T, existir um if/elif, para ver se esta está abaixo ou acima, antes de conferir qualquer outra coisa. Isso é importante porque, caso nao exista um segmento acima ou abaixo, as funções acima e/ou abaixo podem retornar 0 no lugar de um segmento. Então para não ocorrer certas operações (onde se espera um segmento) com um inteiro, nós primeiro averiguamos se a interseção ocorre acima ou abaixo.\n",
        "\n",
        "Uma vez que sabemos onde está essa possível interseção percebemos o terceiro aspecto notável: Averiguamos a hullFlag. A hullFlag foi criada justamente para resolver um problema com a interação entre o algoritmo de Varredura Linear e duas envoltórias diferentes. Como envoltórias são polígonos convexos, sempre haverá interseção quando se considera segmentos que fazem parte dela, já que para existir uma envoltória seus segmentos tem que se encontrar em vértices. Neste caso precisamos desconsiderar essas interseções mas considerar interseções com segmentos de outras envoltórias. Com hullFlag isso deixa de ser um problema. Colocamos tambem a condição de hullFlag == None para que essa função possa funcionar fora do contexto de envoltórias, como uma funcionalidade bônus (nao estritamente necessária neste TP).\n",
        "\n",
        "Caso haja uma interseção ao retirar um segmento de T os aspectos notáveis sao similares aos mencionados anteriormente."
      ],
      "metadata": {
        "id": "XBxyxRch3-id"
      }
    },
    {
      "cell_type": "code",
      "source": [
        "#Confere se há um segmento acima dado um vetor T e o segmento atual e qual é esse segmento\n",
        "def above(T,s):\n",
        "  position = T.index(s)\n",
        "  if position == 0:\n",
        "    return False , 0\n",
        "  else: return True , T[position-1]\n",
        "\n",
        "#Confere se há um segmento abaixo dado um vetor T e o segmento atual e qual é esse segmento\n",
        "def below(T,s):\n",
        "  position = T.index(s)\n",
        "  if position == len(T)-1:\n",
        "    return False , 0\n",
        "  else: return True , T[position+1]\n",
        "\n",
        "def intersecaoLinhaVert(seg,x):\n",
        "  a = (seg.endpointA.y-seg.endpointB.y)/(seg.endpointA.x-seg.endpointB.x)\n",
        "  b = seg.endpointA.y - a*seg.endpointA.x\n",
        "  return a*x+b\n",
        "\n",
        "def insereSeg(T,s,p):\n",
        "  stop = 0\n",
        "  i = 0\n",
        "  while (stop == 0):\n",
        "    if (i == len(T) or intersecaoLinhaVert(s,p.x)>intersecaoLinhaVert(T[i],p.x)):\n",
        "      stop = 1\n",
        "    else:\n",
        "      i += 1\n",
        "  T.insert(i,s)   \n",
        "  return T\n",
        "\n",
        "\n",
        "def varreduraLinear(S):\n",
        "  T = []\n",
        "  endpoints = []\n",
        "  for i in range(len(S)):\n",
        "    endpoints.append([S[i].endpointA,i])\n",
        "    endpoints.append([S[i].endpointB,i])\n",
        "  #Sorts nessa ordem garantem criterios de desempate \n",
        "  endpoints.sort(key=lambda point: point[0].y)\n",
        "  endpoints.sort(key=lambda point: point[0].endpointFlag)\n",
        "  endpoints.sort(key=lambda point: point[0].x)\n",
        "  for p in endpoints:\n",
        "    if p[0].endpointFlag == 0:\n",
        "      T = insereSeg(T,S[p[1]],p[0])\n",
        "      existeAcima, segAcima = above(T,S[p[1]])\n",
        "      existeAbaixo, segAbaixo = below(T,S[p[1]])\n",
        "      if ((existeAcima and intersecaoSegmentos(S[p[1]].endpointA,S[p[1]].endpointB,segAcima.endpointA,segAcima.endpointB)) \n",
        "           or (existeAbaixo and intersecaoSegmentos(S[p[1]].endpointA,S[p[1]].endpointB,segAbaixo.endpointA,segAbaixo.endpointB))):\n",
        "        if existeAcima and intersecaoSegmentos(S[p[1]].endpointA,S[p[1]].endpointB,segAcima.endpointA,segAcima.endpointB):\n",
        "          if S[p[1]].hullFlag == None or S[p[1]].hullFlag != segAcima.hullFlag:\n",
        "            return True\n",
        "        elif existeAbaixo and intersecaoSegmentos(S[p[1]].endpointA,S[p[1]].endpointB,segAbaixo.endpointA,segAbaixo.endpointB):\n",
        "          if S[p[1]].hullFlag == None or S[p[1]].hullFlag != segAbaixo.hullFlag:\n",
        "            return True\n",
        "    else:\n",
        "      existeAcima , segAcima = above(T,S[p[1]])\n",
        "      existeAbaixo , segAbaixo = below(T,S[p[1]])\n",
        "      if existeAcima and existeAbaixo and intersecaoSegmentos(segAcima.endpointA,segAcima.endpointB,segAbaixo.endpointA,segAbaixo.endpointB): \n",
        "        if segAcima.hullFlag == None or segAbaixo.hullFlag == None or segAcima.hullFlag != segAbaixo.hullFlag:\n",
        "          return True\n",
        "      T.remove(S[p[1]])\n",
        "  return False"
      ],
      "metadata": {
        "id": "1Wn1f1-S4CTg"
      },
      "execution_count": null,
      "outputs": []
    },
    {
      "cell_type": "markdown",
      "source": [
        "# Checar Se Duas Envoltórias São Linearmente Separáveis"
      ],
      "metadata": {
        "id": "TbakJz31agBJ"
      }
    },
    {
      "cell_type": "markdown",
      "source": [
        "Antes de conferir se duas envoltórias são linearmente separáveis primeiramente precisamos transformar a envoltória, que é retornada da função do algoritmo de Graham como um conjunto de pontos vértices, em segmentos (arestas). A função segmentoEnvoltoria faz simplesmente isso, ligando cada vértice ao próximo e o ultimo vértice ao primeiro."
      ],
      "metadata": {
        "id": "4T5B64RLtWVv"
      }
    },
    {
      "cell_type": "code",
      "source": [
        "def segmentoEnvoltoria(pontos, hullFlag):\n",
        "  hull = []\n",
        "  for i in range(0, len(pontos)-1):\n",
        "    hull.append(Segmento(pontos[i].x,pontos[i].y,pontos[i + 1].x,pontos[i+1].y,hullFlag))\n",
        "  hull.append(Segmento(pontos[i+1].x,pontos[i+1].y,pontos[0].x,pontos[0].y,hullFlag))\n",
        "  return hull"
      ],
      "metadata": {
        "id": "O3IMg4ZbYQUt"
      },
      "execution_count": null,
      "outputs": []
    },
    {
      "cell_type": "markdown",
      "source": [
        "Agora com todas as partes e algoritmos bases já definidos, a função em si que identifica se as duas classes/envoltórias são linearmente separáveis se torna extremamente simples e enxuta. Primeiramente adicionamos as duas envoltórias, desta vez compostas por segmentos, com suas denominações apropriadas (hullFlags) em um único vetor/lista de segmentos. Depois, tudo que precisamos fazer é retornar a negaçao do retorno da varreduraLinear. Por causa das modificações feitas em varreduraLinear esta retornará verdadeiro apenas se existir interseção entre envoltórias e falso caso contrário. Se retornar falso sabemos que elas são linearmente separáveis."
      ],
      "metadata": {
        "id": "7wSovV793BFN"
      }
    },
    {
      "cell_type": "code",
      "source": [
        "def linSeparavel (hullpoints0,hullpoints1):\n",
        "  segments = []\n",
        "  segments += segmentoEnvoltoria(hullpoints0,0)\n",
        "  segments += segmentoEnvoltoria(hullpoints1,1)\n",
        "  return not varreduraLinear(segments)"
      ],
      "metadata": {
        "id": "vtg4qtPdajQa"
      },
      "execution_count": null,
      "outputs": []
    },
    {
      "cell_type": "markdown",
      "source": [
        "# Modelo"
      ],
      "metadata": {
        "id": "tR4lWTHcV2r0"
      }
    },
    {
      "cell_type": "markdown",
      "source": [
        "Caso duas classes sejam linearmente separáveis nós poderemos utilizar um modelo para classificar um novo ponto. A seguir especificamos a implementação deste modelo"
      ],
      "metadata": {
        "id": "_WL2MVR4BTb0"
      }
    },
    {
      "cell_type": "markdown",
      "source": [
        "### Método de Construção do Modelo"
      ],
      "metadata": {
        "id": "J2slHs1v34ZT"
      }
    },
    {
      "cell_type": "markdown",
      "source": [
        "Para construir o modelo, primeiramente precisamos saber a menor distância entre as envoltórias. Neste TP isso é implementado como a menor distância a partir dos vértices. Isso pode gerar alguns problemas já que a menor distância entre vértices pode não ser a menor distância possível (comentaremos mais sobre isso mais a frente). De qualquer maneira para descobrir essa menor distância comparamos os vértices de uma envoltória com todos os outros da outra envoltória e guardando o indice dos vertices que correspondem ao menor valor achado. Com esses dois vértices nós conseguimos um segmento (minseg).\n",
        "\n",
        "Com o segmento que representa a menor distância precisamos achar o seu ponto médio. A função pontoMedio faz isso de maneira simples usando conceitos matemáticos para calcular o meio de um segmento.\n",
        "\n",
        "Com o minseg e o ponto médio desse segmento finalmente podemos construir o modelo, neste caso uma reta perpendicular (que passa pelo ponto médio) ao segmento de menor distância. Isso separa o espaço em dois subespaços e com isso o modelo classifica um novo ponto baseado se este esta a esquerda ou a direita da reta. A função retorna 3 valores: a, b e o x do ponto médio. As variáveis a e b sao os a e b da equação da reta y = ax + b. Já o x do ponto médio é para tratar do caso no qual o segmento médio é paralelo ao eixo x. Neste caso nosso modelo seria uma reta vertical que passa pelo ponto médio, ou seja, x = mid.x. "
      ],
      "metadata": {
        "id": "6G_E3e70Bmwc"
      }
    },
    {
      "cell_type": "code",
      "source": [
        "def menorDistancia(hullpoints0,hullpoints1):\n",
        "  minvalue = [0,0]\n",
        "  for i in range(len(hullpoints0)):\n",
        "    for j in range(len(hullpoints1)):\n",
        "      if (distancia(hullpoints0[i],hullpoints1[j])<=distancia(hullpoints0[minvalue[0]],hullpoints1[minvalue[1]])):\n",
        "        minvalue = [i,j]\n",
        "  minseg = Segmento(hullpoints0[minvalue[0]].x,hullpoints0[minvalue[0]].y,hullpoints1[minvalue[1]].x,hullpoints1[minvalue[1]].y)\n",
        "  return minseg\n",
        "\n",
        "\n",
        "def pontoMedio(segment):\n",
        "  xmid = (segment.endpointA.x + segment.endpointB.x)/2\n",
        "  ymid = (segment.endpointA.y + segment.endpointB.y)/2\n",
        "  middle = Ponto(xmid,ymid)\n",
        "  return middle\n",
        "\n",
        "\n",
        "def modelo(hullpoints0,hullpoints1):\n",
        "  segdist = menorDistancia(hullpoints0,hullpoints1)\n",
        "  mid = pontoMedio(segdist)\n",
        "  x0 = []\n",
        "  y0 = []\n",
        "  x0.append(segdist.endpointA.x)\n",
        "  x0.append(segdist.endpointB.x)\n",
        "  y0.append(segdist.endpointA.y)\n",
        "  y0.append(segdist.endpointB.y) \n",
        "  plt.plot(x0,y0)\n",
        "  if ((segdist.endpointA.x-segdist.endpointB.x)!=0 and (segdist.endpointA.y-segdist.endpointB.y)!=0):\n",
        "    inclinasegdist = (segdist.endpointA.y-segdist.endpointB.y)/(segdist.endpointA.x-segdist.endpointB.x)\n",
        "    a = -1/inclinasegdist\n",
        "    b = mid.y - a*mid.x\n",
        "  elif((segdist.endpointB.x-segdist.endpointA.x)==0):\n",
        "    a = 0\n",
        "    b = mid.y\n",
        "  else:\n",
        "    a = 0\n",
        "    b = 0\n",
        "  return a,b,mid.x\n"
      ],
      "metadata": {
        "id": "0DAUSjRG4BQY"
      },
      "execution_count": null,
      "outputs": []
    },
    {
      "cell_type": "markdown",
      "source": [
        "# Teste do Modelo"
      ],
      "metadata": {
        "id": "pURK4ptZsqQa"
      }
    },
    {
      "cell_type": "markdown",
      "source": [
        "Um dos obstáculos que tivemos que enfrentar foi o desafio de se padronizar as entradas a partir dos datasets que foram providos no site https://sci2s.ugr.es/keel/category.php?cat=clas#inicio. Para resolver este problema primeiro pensamos em transformar o formato da entrada para um mais facil de ser usado: csv. Para nossa sorte encontramos um repositório no github onde alguns datasets keel haviam sido transformados em csv usando o One Hot Encoder: https://github.com/Mereep/keel_csv. Com isso nosso próximo desafio era como lidar com datasets com mais atributos e classes do que 2, uma vez que nosso modelo é feito para um conjunto de dados com apenas tuplas de atributos e duas classes. Para as classes basta classificar uma delas como a classe 0 e todos pontos pertencentes à próxima classe diferente desta como classe 1. Já para os atributos basta ignorar todos menos dois deles, formando esses a tupla necessária. Não demonstramos aqui o processo para se chegar em configurações que funcionam e são linearmente separáveis, sendo esse um processo tedioso, longo e desnecessário de se mostrar. A seguir estão 10 configurações escolhidas para se calcular as métricas do nosso modelo. Para cada configuração calculamos precisão, revocação e f1-score considerando como referencia uma envoltória e depois a outra.   "
      ],
      "metadata": {
        "id": "nXFtafQCNpt3"
      }
    },
    {
      "cell_type": "markdown",
      "source": [
        "## Entradas"
      ],
      "metadata": {
        "id": "5EDcU6CBNf6W"
      }
    },
    {
      "cell_type": "markdown",
      "source": [
        "Aqui declaramos variáveis globais que nos ajudaram a alimentar a entrada para nosso classificador. A variavel link guarda o dataset que vai ser usado, atribute1 e atribute2 são variáveis auto-explicatórias. Inicializaremos elas com o link e atributos para o primeiro teste."
      ],
      "metadata": {
        "id": "rp66RYxFQJcW"
      }
    },
    {
      "cell_type": "code",
      "source": [
        "link = 'https://media.githubusercontent.com/media/Mereep/keel_csv/master/standard_classification/onehot/iris.prepared.csv'\n",
        "atribute1 = 0\n",
        "atribute2 = 2"
      ],
      "metadata": {
        "id": "TCjDJZZVXRSz"
      },
      "execution_count": null,
      "outputs": []
    },
    {
      "cell_type": "markdown",
      "source": [
        "A função recebeDados nos dá o conjunto de treinamento no qual o modelo será criado. Como instruído, separamos os primeiros 70% para tal, tendo o cuidado de antes atribuir valores para classe0 e classe1 para que possamos identificar a qual envoltória cada ponto pertence. Faremos algo similar para a fase de avaliação de desempenho."
      ],
      "metadata": {
        "id": "iWxqyIxJQwt2"
      }
    },
    {
      "cell_type": "code",
      "source": [
        "# le os dados do github\n",
        "def recebeDados(url, atr1, atr2):\n",
        "\n",
        "  points0 = np.array([])\n",
        "  points1 = np.array([])\n",
        "\n",
        "  file = pd.read_csv(url)\n",
        "  data = file.to_numpy()\n",
        "\n",
        "  indexC = len(data[0]) -1\n",
        "  classe0 = data[0][indexC]\n",
        "  for line in data:\n",
        "    if (line[indexC] != classe0):\n",
        "      classe1 = line[indexC]\n",
        "      break\n",
        "\n",
        "  length = int( len(file) * 0.7 )\n",
        "  data = data[:length]\n",
        "\n",
        "  for line in data:\n",
        "    if (line[indexC] == classe0): \n",
        "      points0 = np.append(points0, Ponto(float(line[atr1]), float(line[atr2])))\n",
        "    elif (line[indexC] == classe1): \n",
        "      points1 = np.append(points1, Ponto(float(line[atr1]), float(line[atr2])))\n",
        "\n",
        "  return points0, points1"
      ],
      "metadata": {
        "id": "33g-X0Nb7etH"
      },
      "execution_count": null,
      "outputs": []
    },
    {
      "cell_type": "markdown",
      "source": [
        "## Classificador e Métricas\n"
      ],
      "metadata": {
        "id": "JQwEzMrqGE-p"
      }
    },
    {
      "cell_type": "markdown",
      "source": [
        "Começamos nosso classificador definindo a função classificadora central: rotulaPonto. Dada as coordenadas de um ponto, o a e b da formula de reta (nosso modelo) e o k (variável que nos indica se o modelo é o caso especial de ser uma reta perpendicular ao eixo x, tendo assim uma formula que nao segue y = ax + b), esta função compara o y da reta e o do ponto em uma coordenada x e vê se o ponto está acima ou abaixo."
      ],
      "metadata": {
        "id": "60meO1ruShgN"
      }
    },
    {
      "cell_type": "code",
      "source": [
        "# atribui rotulo a um ponto de acordo com o modelo\n",
        "def rotulaPonto(x, y, a, b, k = None):\n",
        "\n",
        "  # reta vertical\n",
        "  if (k):\n",
        "    \n",
        "    # acima\n",
        "    if (x > k):\n",
        "      return 1\n",
        "    \n",
        "    # abaixo\n",
        "    elif (x < k):\n",
        "      return -1\n",
        "    \n",
        "    # sobre\n",
        "    else:\n",
        "      return 0\n",
        "  \n",
        "  else:\n",
        "    # acima\n",
        "    if(y > (x*a + b)): \n",
        "      return 1\n",
        "    \n",
        "    # abaixo\n",
        "    elif(y < (x*a + b)):\n",
        "      return -1\n",
        "    \n",
        "    # sobre\n",
        "    else:\n",
        "      return 0"
      ],
      "metadata": {
        "id": "yVIjVZBsxYgq"
      },
      "execution_count": null,
      "outputs": []
    },
    {
      "cell_type": "markdown",
      "source": [
        "A função que aqui é chamada de classificador na verdade classifica e já retorna todos os dados necessários para se fazer as métricas, sendo a classificação em si feita pela função discutida anteriormente. Podemos ver aqui também a separaçao dos últimos 30% de um dado dataset usando um metodo quase identico a um visto anteriormente, mudando apenas o slice do vetor com os dados."
      ],
      "metadata": {
        "id": "H7NQwfLgV2Su"
      }
    },
    {
      "cell_type": "code",
      "source": [
        "# recebe um modelo e classifica um conjunto de amostras desconhecidas\n",
        "def classifier(a, b, k, url, atr1, atr2, acima, abaixo):\n",
        "\n",
        "  acimaP = 0 # classificados como acima corretamente\n",
        "  acimaN = 0 # classificados como acima erroneamente\n",
        "  abaixoP = 0 # classificados como direita corretamente\n",
        "  abaixoN = 0 # classificados como direita erroneamente\n",
        "  indeterminadoA = 0 # nao classificados\n",
        "  indeterminadoB = 0 # nao classificados\n",
        "  \n",
        "  # le dados e seleciona colunas desejadas  \n",
        "  file = pd.read_csv(url)\n",
        "  data = file.to_numpy()\n",
        "\n",
        "  indexC = len(data[0]) -1\n",
        "  classe0 = data[0][indexC]\n",
        "  for line in data:\n",
        "    if (line[indexC] != classe0):\n",
        "      classe1 = line[indexC]\n",
        "      break\n",
        "\n",
        "  length = int( len(file) * 0.7 )\n",
        "  data = data[length:]\n",
        "\n",
        "  for line in data:\n",
        "    rotulo = rotulaPonto(float(line[atr1]), float(line[atr2]), a, b, k)\n",
        "\n",
        "    if(line[indexC] == classe0):\n",
        "\n",
        "      if(rotulo == 0):\n",
        "        if(acima == 0):\n",
        "          indeterminadoA += 1\n",
        "        else:\n",
        "          indeterminadoB += 1\n",
        "\n",
        "      elif(rotulo == 1 and acima == 0):\n",
        "        acimaP += 1\n",
        "      \n",
        "      elif(rotulo == 1 and acima != 0):\n",
        "        acimaN += 1\n",
        "\n",
        "      elif(rotulo == -1 and abaixo == 0):\n",
        "        abaixoP += 1\n",
        "      \n",
        "      elif(rotulo == -1 and abaixo != 0):\n",
        "        abaixoN += 1\n",
        "\n",
        "    # classe 1\n",
        "    else:\n",
        "      \n",
        "      if(rotulo == 0):\n",
        "        if(acima == 1):\n",
        "          indeterminadoA += 1\n",
        "        else:\n",
        "          indeterminadoB += 1\n",
        "\n",
        "      elif(rotulo == 1 and acima == 1):\n",
        "        acimaP += 1\n",
        "      \n",
        "      elif(rotulo == 1 and acima != 1):\n",
        "        acimaN += 1\n",
        "\n",
        "      elif(rotulo == -1 and abaixo == 1):\n",
        "        abaixoP += 1\n",
        "      \n",
        "      elif(rotulo == -1 and abaixo != 1):\n",
        "        abaixoN += 1\n",
        "  \n",
        "  return indeterminadoA, indeterminadoB, acimaP, acimaN, abaixoP, abaixoN"
      ],
      "metadata": {
        "id": "c2h-9kzjxayg"
      },
      "execution_count": null,
      "outputs": []
    },
    {
      "cell_type": "markdown",
      "source": [
        "E por fim temos a função implementada para o cálculo das métricas de Precisão, Revocação e F1-score tomando como dado relevante primeiro uma das envoltórias e depois a outra, sendo assim cada teste nos dará duas medições de cada métrica"
      ],
      "metadata": {
        "id": "vgJIheW4YXBm"
      }
    },
    {
      "cell_type": "code",
      "source": [
        "# Precisao, Revocação e F1-escore\n",
        "def calculaMetricas(indA, indB, acimaP, acimaN, abaixoP, abaixoN):\n",
        "\n",
        "  pEnv1 = pEnv2 = rEnv1 = rEnv2 = f1Env1 = f1Env2 = None\n",
        "\n",
        "  if (acimaP + acimaN != 0):\n",
        "    pEnv1 = acimaP / (acimaP + acimaN)\n",
        "  \n",
        "  if (acimaP + indA + abaixoN != 0):  \n",
        "    rEnv1 = acimaP / (acimaP + indA + abaixoN)\n",
        "  \n",
        "  if (pEnv1 and rEnv1):\n",
        "    f1Env1 = 2*pEnv1*rEnv1 / (pEnv1 + rEnv1)\n",
        "\n",
        "  if (abaixoP + abaixoN != 0):\n",
        "    pEnv2 = abaixoP / (abaixoP + abaixoN)\n",
        "\n",
        "  if(abaixoP + indB + acimaN != 0):\n",
        "    rEnv2 = abaixoP / (abaixoP + indB + acimaN)\n",
        "  \n",
        "  if(pEnv2 and rEnv2):\n",
        "    f1Env2 = 2*pEnv2*rEnv2 / (pEnv2 + rEnv2)\n",
        "\n",
        "  print('Envoltória 1\\n\\nPrecisão:  ', pEnv1, '\\nRevocação: ', rEnv1, '\\nF1-escore: ', f1Env1, '\\n')\n",
        "  print('Envoltória 2\\n\\nPrecisão:  ', pEnv2, '\\nRevocação: ', rEnv2, '\\nF1-escore: ', f1Env2)"
      ],
      "metadata": {
        "id": "tk1Ecq3eyFZv"
      },
      "execution_count": null,
      "outputs": []
    },
    {
      "cell_type": "markdown",
      "source": [
        "## Testes"
      ],
      "metadata": {
        "id": "K-N3z7CBMhvX"
      }
    },
    {
      "cell_type": "markdown",
      "source": [
        "### Teste #1"
      ],
      "metadata": {
        "id": "dZwAzayHZGKH"
      }
    },
    {
      "cell_type": "markdown",
      "source": [
        "Todos os testes seguiram este mesmo template mudando apenas o espaço mostrado no gráfico (e ajustes de visualização) e a entrada. Para a fórmula da reta consideramos apenas 3 casas decimais de um float"
      ],
      "metadata": {
        "id": "K4TJ-eRVbrMV"
      }
    },
    {
      "cell_type": "code",
      "source": [
        "#Inicializa os pontos de cada envoltória\n",
        "points0, points1 = recebeDados(link, atribute1,atribute2)\n",
        "\n",
        "#Constrói envoltórias\n",
        "envoltoria0 = graham(points0)\n",
        "envoltoria1 = graham(points1)\n",
        "\n",
        "#Segmenta envoltória para desenha-la no grafico\n",
        "s1 = segmentoEnvoltoria(envoltoria0,0)\n",
        "s2 = segmentoEnvoltoria(envoltoria1,1)\n",
        "for i in s1:\n",
        "  x1 = []\n",
        "  y1 = []\n",
        "  x1.append(i.endpointA.x)\n",
        "  x1.append(i.endpointB.x)\n",
        "  y1.append(i.endpointA.y)\n",
        "  y1.append(i.endpointB.y)\n",
        "  plt.plot(x1,y1,'r')\n",
        "\n",
        "for j in s2:\n",
        "  x2 = []\n",
        "  y2 = []\n",
        "  x2.append(j.endpointA.x)\n",
        "  x2.append(j.endpointB.x)\n",
        "  y2.append(j.endpointA.y)\n",
        "  y2.append(j.endpointB.y)\n",
        "  plt.plot(x2,y2,'b')\n",
        "\n",
        "#Confere se é lin separavel\n",
        "sep = linSeparavel(envoltoria0,envoltoria1)\n",
        "a = 0\n",
        "b = 0\n",
        "xmid = 0\n",
        "\n",
        "#se for traça o gráfico\n",
        "if(sep):\n",
        "  a,b,xmid = modelo(envoltoria0,envoltoria1)\n",
        "\n",
        "  if(a == 0 and b == 0):\n",
        "    plt.axvline(xmid)\n",
        "  else:\n",
        "    x = np.linspace(-2,1.5,100)\n",
        "    y = a*x + b \n",
        "    equacao = 'y = ' + str(\"%.3f\" % a) + 'x' + str(\"%.3f\" % b)\n",
        "    plt.plot(x,y,'k',label = equacao)\n",
        "\n",
        "  plt.legend()\n",
        "\n",
        "plt.show()\n",
        "\n",
        "# verifica qual envoltoria esta acima(1) e qual esta abaixo(-1) da reta e rotula de acordo\n",
        "if ( rotulaPonto(envoltoria0[0].x, envoltoria0[0].y, a, b) == 1 ):\n",
        "  acima = 0\n",
        "  abaixo = 1\n",
        "else:\n",
        "  acima = 1\n",
        "  abaixo = 0\n",
        "\n",
        "indA, indB, acimaP, acimaN, abaixoP, abaixoN = classifier(a, b, xmid, link, atribute1,atribute2, acima, abaixo)\n",
        "\n",
        "#calcula métrica\n",
        "calculaMetricas(indA, indB, acimaP, acimaN, abaixoP, abaixoN)"
      ],
      "metadata": {
        "id": "fglW051KGID5",
        "colab": {
          "base_uri": "https://localhost:8080/"
        },
        "outputId": "a6f231d4-bcf3-496c-fb03-73300c29d663"
      },
      "execution_count": null,
      "outputs": [
        {
          "output_type": "display_data",
          "data": {
            "text/plain": [
              "<Figure size 432x288 with 1 Axes>"
            ],
            "image/png": "[encoded data removed]"
          },
          "metadata": {
            "needs_background": "light"
          }
        },
        {
          "output_type": "stream",
          "name": "stdout",
          "text": [
            "Envoltória 1\n",
            "\n",
            "Precisão:   0.975609756097561 \n",
            "Revocação:  1.0 \n",
            "F1-escore:  0.9876543209876543 \n",
            "\n",
            "Envoltória 2\n",
            "\n",
            "Precisão:   1.0 \n",
            "Revocação:  0.8 \n",
            "F1-escore:  0.888888888888889\n"
          ]
        }
      ]
    },
    {
      "cell_type": "markdown",
      "source": [
        "### Teste #2"
      ],
      "metadata": {
        "id": "kJU_ls_0cWvt"
      }
    },
    {
      "cell_type": "code",
      "source": [
        "#Entrada para o teste\n",
        "link = 'https://media.githubusercontent.com/media/Mereep/keel_csv/master/standard_classification/onehot/iris.prepared.csv'\n",
        "atribute1 = 0\n",
        "atribute2 = 3\n",
        "\n",
        "#Inicializa os pontos de cada envoltória\n",
        "points0, points1 = recebeDados(link, atribute1,atribute2)\n",
        "\n",
        "#Constrói envoltórias\n",
        "envoltoria0 = graham(points0)\n",
        "envoltoria1 = graham(points1)\n",
        "\n",
        "#Segmenta envoltória para desenha-la no grafico\n",
        "s1 = segmentoEnvoltoria(envoltoria0,0)\n",
        "s2 = segmentoEnvoltoria(envoltoria1,1)\n",
        "for i in s1:\n",
        "  x1 = []\n",
        "  y1 = []\n",
        "  x1.append(i.endpointA.x)\n",
        "  x1.append(i.endpointB.x)\n",
        "  y1.append(i.endpointA.y)\n",
        "  y1.append(i.endpointB.y)\n",
        "  plt.plot(x1,y1,'r')\n",
        "\n",
        "for j in s2:\n",
        "  x2 = []\n",
        "  y2 = []\n",
        "  x2.append(j.endpointA.x)\n",
        "  x2.append(j.endpointB.x)\n",
        "  y2.append(j.endpointA.y)\n",
        "  y2.append(j.endpointB.y)\n",
        "  plt.plot(x2,y2,'b')\n",
        "\n",
        "#Confere se é lin separavel\n",
        "sep = linSeparavel(envoltoria0,envoltoria1)\n",
        "a = 0\n",
        "b = 0\n",
        "xmid = 0\n",
        "\n",
        "#se for traça o gráfico\n",
        "if(sep):\n",
        "  a,b,xmid = modelo(envoltoria0,envoltoria1)\n",
        "\n",
        "  if(a == 0 and b == 0):\n",
        "    plt.axvline(xmid)\n",
        "  else:\n",
        "    x = np.linspace(-2,1.5,100)\n",
        "    y = a*x + b \n",
        "    equacao = 'y = ' + str(\"%.3f\" % a) + 'x' + str(\"%.3f\" % b)\n",
        "    plt.plot(x,y,'k',label = equacao)\n",
        "\n",
        "  plt.legend()\n",
        "\n",
        "plt.show()\n",
        "\n",
        "# verifica qual envoltoria esta acima(1) e qual esta abaixo(-1) da reta e rotula de acordo\n",
        "if ( rotulaPonto(envoltoria0[0].x, envoltoria0[0].y, a, b) == 1 ):\n",
        "  acima = 0\n",
        "  abaixo = 1\n",
        "else:\n",
        "  acima = 1\n",
        "  abaixo = 0\n",
        "\n",
        "indA, indB, acimaP, acimaN, abaixoP, abaixoN = classifier(a, b, xmid, link, atribute1,atribute2, acima, abaixo)\n",
        "\n",
        "#calcula métrica\n",
        "calculaMetricas(indA, indB, acimaP, acimaN, abaixoP, abaixoN)"
      ],
      "metadata": {
        "colab": {
          "base_uri": "https://localhost:8080/"
        },
        "outputId": "614b6bb9-361a-409e-ee5e-6b2559f26ebb",
        "id": "zL6h5PejcWvu"
      },
      "execution_count": null,
      "outputs": [
        {
          "output_type": "display_data",
          "data": {
            "text/plain": [
              "<Figure size 432x288 with 1 Axes>"
            ],
            "image/png": "[encoded data removed]"
          },
          "metadata": {
            "needs_background": "light"
          }
        },
        {
          "output_type": "stream",
          "name": "stdout",
          "text": [
            "Envoltória 1\n",
            "\n",
            "Precisão:   0.975609756097561 \n",
            "Revocação:  1.0 \n",
            "F1-escore:  0.9876543209876543 \n",
            "\n",
            "Envoltória 2\n",
            "\n",
            "Precisão:   1.0 \n",
            "Revocação:  0.8 \n",
            "F1-escore:  0.888888888888889\n"
          ]
        }
      ]
    },
    {
      "cell_type": "markdown",
      "source": [
        "### Teste #3"
      ],
      "metadata": {
        "id": "m5nHmpcjc6_C"
      }
    },
    {
      "cell_type": "markdown",
      "source": [
        "Por mais que, matemáticamente falando, a reta modelo seja perpendicular ao segmento da menor distância (a inclinação/a das duas multiplicadas dá -1), na visualização a reta parece torta. Não descobrimos a causa disso mas decidimos usar o modelo mesmo assim. Apareceram outros gráficos similares. Neste caso, podemos perceber que a menor distância entre as envoltórias não é a distância entre os vértices o que causa algumas complicações. Como este fato nao afeta tanto esse modelo (a reta não corta muito uma das envoltórias) decidimos mantê-lo para exemplificar este caso especial"
      ],
      "metadata": {
        "id": "KIbv6CFceJoV"
      }
    },
    {
      "cell_type": "code",
      "source": [
        "#Entrada para o teste\n",
        "link = 'https://media.githubusercontent.com/media/Mereep/keel_csv/master/standard_classification/onehot/segment.prepared.csv'\n",
        "atribute1 = 1\n",
        "atribute2 = 0\n",
        "\n",
        "#Inicializa os pontos de cada envoltória\n",
        "points0, points1 = recebeDados(link, atribute1,atribute2)\n",
        "\n",
        "#Constrói envoltórias\n",
        "envoltoria0 = graham(points0)\n",
        "envoltoria1 = graham(points1)\n",
        "\n",
        "#Segmenta envoltória para desenha-la no grafico\n",
        "s1 = segmentoEnvoltoria(envoltoria0,0)\n",
        "s2 = segmentoEnvoltoria(envoltoria1,1)\n",
        "for i in s1:\n",
        "  x1 = []\n",
        "  y1 = []\n",
        "  x1.append(i.endpointA.x)\n",
        "  x1.append(i.endpointB.x)\n",
        "  y1.append(i.endpointA.y)\n",
        "  y1.append(i.endpointB.y)\n",
        "  plt.plot(x1,y1,'r')\n",
        "\n",
        "for j in s2:\n",
        "  x2 = []\n",
        "  y2 = []\n",
        "  x2.append(j.endpointA.x)\n",
        "  x2.append(j.endpointB.x)\n",
        "  y2.append(j.endpointA.y)\n",
        "  y2.append(j.endpointB.y)\n",
        "  plt.plot(x2,y2,'b')\n",
        "\n",
        "#Confere se é lin separavel\n",
        "sep = linSeparavel(envoltoria0,envoltoria1)\n",
        "a = 0\n",
        "b = 0\n",
        "xmid = 0\n",
        "\n",
        "#se for traça o gráfico\n",
        "if(sep):\n",
        "  a,b,xmid = modelo(envoltoria0,envoltoria1)\n",
        "\n",
        "  if(a == 0 and b == 0):\n",
        "    plt.axvline(xmid)\n",
        "  else:\n",
        "    x = np.linspace(-1.1,1.5,100)\n",
        "    y = a*x + b \n",
        "    equacao = 'y = ' + str(\"%.3f\" % a) + 'x+' + str(\"%.3f\" % b)\n",
        "    plt.plot(x,y,'k',label = equacao)\n",
        "    plt.ylim([-5,5])\n",
        "\n",
        "  plt.legend()\n",
        "\n",
        "plt.show()\n",
        "\n",
        "# verifica qual envoltoria esta acima(1) e qual esta abaixo(-1) da reta e rotula de acordo\n",
        "if ( rotulaPonto(envoltoria0[0].x, envoltoria0[0].y, a, b) == 1 ):\n",
        "  acima = 0\n",
        "  abaixo = 1\n",
        "else:\n",
        "  acima = 1\n",
        "  abaixo = 0\n",
        "\n",
        "indA, indB, acimaP, acimaN, abaixoP, abaixoN = classifier(a, b, xmid, link, atribute1,atribute2, acima, abaixo)\n",
        "\n",
        "#calcula métrica\n",
        "calculaMetricas(indA, indB, acimaP, acimaN, abaixoP, abaixoN)"
      ],
      "metadata": {
        "colab": {
          "base_uri": "https://localhost:8080/"
        },
        "outputId": "4cdfb571-4a9a-4b20-e173-820b0df4eeab",
        "id": "cwha2wOfc6_G"
      },
      "execution_count": null,
      "outputs": [
        {
          "output_type": "display_data",
          "data": {
            "text/plain": [
              "<Figure size 432x288 with 1 Axes>"
            ],
            "image/png": "[encoded data removed]"
          },
          "metadata": {
            "needs_background": "light"
          }
        },
        {
          "output_type": "stream",
          "name": "stdout",
          "text": [
            "Envoltória 1\n",
            "\n",
            "Precisão:   0.49029126213592233 \n",
            "Revocação:  1.0 \n",
            "F1-escore:  0.6579804560260586 \n",
            "\n",
            "Envoltória 2\n",
            "\n",
            "Precisão:   1.0 \n",
            "Revocação:  0.8226351351351351 \n",
            "F1-escore:  0.9026876737720111\n"
          ]
        }
      ]
    },
    {
      "cell_type": "markdown",
      "source": [
        "### Teste #4"
      ],
      "metadata": {
        "id": "z6SMivOXc7HY"
      }
    },
    {
      "cell_type": "markdown",
      "source": [
        "Outro caso onde a representação visual da reta é torta se encontra aqui. Ainda achamos importante mostrar essa peculiaridade."
      ],
      "metadata": {
        "id": "0gVRD-_ggrQ8"
      }
    },
    {
      "cell_type": "code",
      "source": [
        "#Entrada para o teste\n",
        "link = 'https://media.githubusercontent.com/media/Mereep/keel_csv/master/standard_classification/onehot/segment.prepared.csv'\n",
        "atribute1 = 1\n",
        "atribute2 = 8\n",
        "\n",
        "\n",
        "#Inicializa os pontos de cada envoltória\n",
        "points0, points1 = recebeDados(link, atribute1,atribute2)\n",
        "\n",
        "#Constrói envoltórias\n",
        "envoltoria0 = graham(points0)\n",
        "envoltoria1 = graham(points1)\n",
        "\n",
        "#Segmenta envoltória para desenha-la no grafico\n",
        "s1 = segmentoEnvoltoria(envoltoria0,0)\n",
        "s2 = segmentoEnvoltoria(envoltoria1,1)\n",
        "for i in s1:\n",
        "  x1 = []\n",
        "  y1 = []\n",
        "  x1.append(i.endpointA.x)\n",
        "  x1.append(i.endpointB.x)\n",
        "  y1.append(i.endpointA.y)\n",
        "  y1.append(i.endpointB.y)\n",
        "  plt.plot(x1,y1,'r')\n",
        "\n",
        "for j in s2:\n",
        "  x2 = []\n",
        "  y2 = []\n",
        "  x2.append(j.endpointA.x)\n",
        "  x2.append(j.endpointB.x)\n",
        "  y2.append(j.endpointA.y)\n",
        "  y2.append(j.endpointB.y)\n",
        "  plt.plot(x2,y2,'b')\n",
        "\n",
        "#Confere se é lin separavel\n",
        "sep = linSeparavel(envoltoria0,envoltoria1)\n",
        "a = 0\n",
        "b = 0\n",
        "xmid = 0\n",
        "\n",
        "#se for traça o gráfico\n",
        "if(sep):\n",
        "  a,b,xmid = modelo(envoltoria0,envoltoria1)\n",
        "\n",
        "  if(a == 0 and b == 0):\n",
        "    plt.axvline(xmid)\n",
        "  else:\n",
        "    x = np.linspace(-2,1.5,100)\n",
        "    y = a*x + b \n",
        "    equacao = 'y = ' + str(\"%.3f\" % a) + 'x+' + str(\"%.3f\" % b)\n",
        "    plt.plot(x,y,'k',label = equacao)\n",
        "    plt.xlim([-1.3,1.5])\n",
        "    plt.ylim([-2,25])\n",
        "\n",
        "  plt.legend()\n",
        "\n",
        "plt.show()\n",
        "\n",
        "# verifica qual envoltoria esta acima(1) e qual esta abaixo(-1) da reta e rotula de acordo\n",
        "if ( rotulaPonto(envoltoria0[0].x, envoltoria0[0].y, a, b) == 1 ):\n",
        "  acima = 0\n",
        "  abaixo = 1\n",
        "else:\n",
        "  acima = 1\n",
        "  abaixo = 0\n",
        "\n",
        "indA, indB, acimaP, acimaN, abaixoP, abaixoN = classifier(a, b, xmid, link, atribute1,atribute2, acima, abaixo)\n",
        "\n",
        "#calcula métrica\n",
        "calculaMetricas(indA, indB, acimaP, acimaN, abaixoP, abaixoN)"
      ],
      "metadata": {
        "colab": {
          "base_uri": "https://localhost:8080/"
        },
        "outputId": "0bd23671-5b0a-42fb-8a94-d5b27989462d",
        "id": "8q4cZoblc7HY"
      },
      "execution_count": null,
      "outputs": [
        {
          "output_type": "display_data",
          "data": {
            "text/plain": [
              "<Figure size 432x288 with 1 Axes>"
            ],
            "image/png": "[encoded data removed]"
          },
          "metadata": {
            "needs_background": "light"
          }
        },
        {
          "output_type": "stream",
          "name": "stdout",
          "text": [
            "Envoltória 1\n",
            "\n",
            "Precisão:   0.4786729857819905 \n",
            "Revocação:  1.0 \n",
            "F1-escore:  0.6474358974358975 \n",
            "\n",
            "Envoltória 2\n",
            "\n",
            "Precisão:   1.0 \n",
            "Revocação:  0.8141891891891891 \n",
            "F1-escore:  0.8975791433891993\n"
          ]
        }
      ]
    },
    {
      "cell_type": "markdown",
      "source": [
        "### Teste #5"
      ],
      "metadata": {
        "id": "ljyB48FHc7PN"
      }
    },
    {
      "cell_type": "code",
      "source": [
        "#Entrada para o teste\n",
        "link = 'https://media.githubusercontent.com/media/Mereep/keel_csv/master/standard_classification/onehot/segment.prepared.csv'\n",
        "atribute1 = 1\n",
        "atribute2 = 6\n",
        "\n",
        "\n",
        "#Inicializa os pontos de cada envoltória\n",
        "points0, points1 = recebeDados(link, atribute1,atribute2)\n",
        "\n",
        "#Constrói envoltórias\n",
        "envoltoria0 = graham(points0)\n",
        "envoltoria1 = graham(points1)\n",
        "\n",
        "#Segmenta envoltória para desenha-la no grafico\n",
        "s1 = segmentoEnvoltoria(envoltoria0,0)\n",
        "s2 = segmentoEnvoltoria(envoltoria1,1)\n",
        "for i in s1:\n",
        "  x1 = []\n",
        "  y1 = []\n",
        "  x1.append(i.endpointA.x)\n",
        "  x1.append(i.endpointB.x)\n",
        "  y1.append(i.endpointA.y)\n",
        "  y1.append(i.endpointB.y)\n",
        "  plt.plot(x1,y1,'r')\n",
        "\n",
        "for j in s2:\n",
        "  x2 = []\n",
        "  y2 = []\n",
        "  x2.append(j.endpointA.x)\n",
        "  x2.append(j.endpointB.x)\n",
        "  y2.append(j.endpointA.y)\n",
        "  y2.append(j.endpointB.y)\n",
        "  plt.plot(x2,y2,'b')\n",
        "\n",
        "#Confere se é lin separavel\n",
        "sep = linSeparavel(envoltoria0,envoltoria1)\n",
        "a = 0\n",
        "b = 0\n",
        "xmid = 0\n",
        "\n",
        "#se for traça o gráfico\n",
        "if(sep):\n",
        "  a,b,xmid = modelo(envoltoria0,envoltoria1)\n",
        "\n",
        "  if(a == 0 and b == 0):\n",
        "    plt.axvline(xmid)\n",
        "  else:\n",
        "    x = np.linspace(-2,1.5,100)\n",
        "    y = a*x + b \n",
        "    equacao = 'y = ' + str(\"%.3f\" % a) + 'x+' + str(\"%.3f\" % b)\n",
        "    plt.plot(x,y,'k',label = equacao)\n",
        "    plt.xlim([-1.3,1.7])\n",
        "    plt.ylim([-2,17])\n",
        "\n",
        "  plt.legend()\n",
        "\n",
        "plt.show()\n",
        "\n",
        "# verifica qual envoltoria esta acima(1) e qual esta abaixo(-1) da reta e rotula de acordo\n",
        "if ( rotulaPonto(envoltoria0[0].x, envoltoria0[0].y, a, b) == 1 ):\n",
        "  acima = 0\n",
        "  abaixo = 1\n",
        "else:\n",
        "  acima = 1\n",
        "  abaixo = 0\n",
        "\n",
        "indA, indB, acimaP, acimaN, abaixoP, abaixoN = classifier(a, b, xmid, link, atribute1,atribute2, acima, abaixo)\n",
        "\n",
        "#calcula métrica\n",
        "calculaMetricas(indA, indB, acimaP, acimaN, abaixoP, abaixoN)"
      ],
      "metadata": {
        "colab": {
          "base_uri": "https://localhost:8080/"
        },
        "outputId": "6faac1f4-7c62-49f8-eba6-088aa374267b",
        "id": "vADZV1Fec7PN"
      },
      "execution_count": null,
      "outputs": [
        {
          "output_type": "display_data",
          "data": {
            "text/plain": [
              "<Figure size 432x288 with 1 Axes>"
            ],
            "image/png": "[encoded data removed]"
          },
          "metadata": {
            "needs_background": "light"
          }
        },
        {
          "output_type": "stream",
          "name": "stdout",
          "text": [
            "Envoltória 1\n",
            "\n",
            "Precisão:   0.47641509433962265 \n",
            "Revocação:  1.0 \n",
            "F1-escore:  0.6453674121405751 \n",
            "\n",
            "Envoltória 2\n",
            "\n",
            "Precisão:   1.0 \n",
            "Revocação:  0.8125 \n",
            "F1-escore:  0.896551724137931\n"
          ]
        }
      ]
    },
    {
      "cell_type": "markdown",
      "source": [
        "### Teste #6"
      ],
      "metadata": {
        "id": "0R7Rwnp8c7WY"
      }
    },
    {
      "cell_type": "code",
      "source": [
        "#Entrada para o teste\n",
        "link = 'https://media.githubusercontent.com/media/Mereep/keel_csv/master/standard_classification/onehot/segment.prepared.csv'\n",
        "atribute1 = 1\n",
        "atribute2 = 10\n",
        "\n",
        "\n",
        "#Inicializa os pontos de cada envoltória\n",
        "points0, points1 = recebeDados(link, atribute1,atribute2)\n",
        "\n",
        "#Constrói envoltórias\n",
        "envoltoria0 = graham(points0)\n",
        "envoltoria1 = graham(points1)\n",
        "\n",
        "#Segmenta envoltória para desenha-la no grafico\n",
        "s1 = segmentoEnvoltoria(envoltoria0,0)\n",
        "s2 = segmentoEnvoltoria(envoltoria1,1)\n",
        "for i in s1:\n",
        "  x1 = []\n",
        "  y1 = []\n",
        "  x1.append(i.endpointA.x)\n",
        "  x1.append(i.endpointB.x)\n",
        "  y1.append(i.endpointA.y)\n",
        "  y1.append(i.endpointB.y)\n",
        "  plt.plot(x1,y1,'r')\n",
        "\n",
        "for j in s2:\n",
        "  x2 = []\n",
        "  y2 = []\n",
        "  x2.append(j.endpointA.x)\n",
        "  x2.append(j.endpointB.x)\n",
        "  y2.append(j.endpointA.y)\n",
        "  y2.append(j.endpointB.y)\n",
        "  plt.plot(x2,y2,'b')\n",
        "\n",
        "#Confere se é lin separavel\n",
        "sep = linSeparavel(envoltoria0,envoltoria1)\n",
        "a = 0\n",
        "b = 0\n",
        "xmid = 0\n",
        "\n",
        "#se for traça o gráfico\n",
        "if(sep):\n",
        "  a,b,xmid = modelo(envoltoria0,envoltoria1)\n",
        "\n",
        "  if(a == 0 and b == 0):\n",
        "    plt.axvline(xmid)\n",
        "  else:\n",
        "    x = np.linspace(-2,1.5,100)\n",
        "    y = a*x + b \n",
        "    equacao = 'y = ' + str(\"%.3f\" % a) + 'x+' + str(\"%.3f\" % b)\n",
        "    plt.plot(x,y,'k',label = equacao)\n",
        "    plt.xlim([-1.2,1.6])\n",
        "    plt.ylim([-1,1])\n",
        "\n",
        "  plt.legend()\n",
        "\n",
        "plt.show()\n",
        "\n",
        "# verifica qual envoltoria esta acima(1) e qual esta abaixo(-1) da reta e rotula de acordo\n",
        "if ( rotulaPonto(envoltoria0[0].x, envoltoria0[0].y, a, b) == 1 ):\n",
        "  acima = 0\n",
        "  abaixo = 1\n",
        "else:\n",
        "  acima = 1\n",
        "  abaixo = 0\n",
        "\n",
        "indA, indB, acimaP, acimaN, abaixoP, abaixoN = classifier(a, b, xmid, link, atribute1,atribute2, acima, abaixo)\n",
        "\n",
        "#calcula métrica\n",
        "calculaMetricas(indA, indB, acimaP, acimaN, abaixoP, abaixoN)"
      ],
      "metadata": {
        "colab": {
          "base_uri": "https://localhost:8080/"
        },
        "outputId": "217652e7-b481-419d-b4a2-6dec83944a6b",
        "id": "trWsokK5c7WY"
      },
      "execution_count": null,
      "outputs": [
        {
          "output_type": "display_data",
          "data": {
            "text/plain": [
              "<Figure size 432x288 with 1 Axes>"
            ],
            "image/png": "[encoded data removed]"
          },
          "metadata": {
            "needs_background": "light"
          }
        },
        {
          "output_type": "stream",
          "name": "stdout",
          "text": [
            "Envoltória 1\n",
            "\n",
            "Precisão:   0.4611872146118721 \n",
            "Revocação:  1.0 \n",
            "F1-escore:  0.63125 \n",
            "\n",
            "Envoltória 2\n",
            "\n",
            "Precisão:   1.0 \n",
            "Revocação:  0.793918918918919 \n",
            "F1-escore:  0.8851224105461395\n"
          ]
        }
      ]
    },
    {
      "cell_type": "markdown",
      "source": [
        "### Teste #7"
      ],
      "metadata": {
        "id": "lRm7o3cKc7dY"
      }
    },
    {
      "cell_type": "code",
      "source": [
        "#Entrada para o teste\n",
        "link = 'https://media.githubusercontent.com/media/Mereep/keel_csv/master/standard_classification/onehot/segment.prepared.csv'\n",
        "atribute1 = 1\n",
        "atribute2 = 12\n",
        "\n",
        "\n",
        "#Inicializa os pontos de cada envoltória\n",
        "points0, points1 = recebeDados(link, atribute1,atribute2)\n",
        "\n",
        "#Constrói envoltórias\n",
        "envoltoria0 = graham(points0)\n",
        "envoltoria1 = graham(points1)\n",
        "\n",
        "#Segmenta envoltória para desenha-la no grafico\n",
        "s1 = segmentoEnvoltoria(envoltoria0,0)\n",
        "s2 = segmentoEnvoltoria(envoltoria1,1)\n",
        "for i in s1:\n",
        "  x1 = []\n",
        "  y1 = []\n",
        "  x1.append(i.endpointA.x)\n",
        "  x1.append(i.endpointB.x)\n",
        "  y1.append(i.endpointA.y)\n",
        "  y1.append(i.endpointB.y)\n",
        "  plt.plot(x1,y1,'r')\n",
        "\n",
        "for j in s2:\n",
        "  x2 = []\n",
        "  y2 = []\n",
        "  x2.append(j.endpointA.x)\n",
        "  x2.append(j.endpointB.x)\n",
        "  y2.append(j.endpointA.y)\n",
        "  y2.append(j.endpointB.y)\n",
        "  plt.plot(x2,y2,'b')\n",
        "\n",
        "#Confere se é lin separavel\n",
        "sep = linSeparavel(envoltoria0,envoltoria1)\n",
        "a = 0\n",
        "b = 0\n",
        "xmid = 0\n",
        "\n",
        "#se for traça o gráfico\n",
        "if(sep):\n",
        "  a,b,xmid = modelo(envoltoria0,envoltoria1)\n",
        "\n",
        "  if(a == 0 and b == 0):\n",
        "    plt.axvline(xmid)\n",
        "  else:\n",
        "    x = np.linspace(-2,1.5,100)\n",
        "    y = a*x + b \n",
        "    equacao = 'y = ' + str(\"%.3f\" % a) + 'x' + str(\"%.3f\" % b)\n",
        "    plt.plot(x,y,'k',label = equacao)\n",
        "    plt.xlim([-1.2,1.6])\n",
        "    plt.ylim([-1,1])\n",
        "\n",
        "    \n",
        "  plt.legend()\n",
        "\n",
        "plt.show()\n",
        "\n",
        "# verifica qual envoltoria esta acima(1) e qual esta abaixo(-1) da reta e rotula de acordo\n",
        "if ( rotulaPonto(envoltoria0[0].x, envoltoria0[0].y, a, b) == 1 ):\n",
        "  acima = 0\n",
        "  abaixo = 1\n",
        "else:\n",
        "  acima = 1\n",
        "  abaixo = 0\n",
        "\n",
        "indA, indB, acimaP, acimaN, abaixoP, abaixoN = classifier(a, b, xmid, link, atribute1,atribute2, acima, abaixo)\n",
        "\n",
        "#calcula métrica\n",
        "calculaMetricas(indA, indB, acimaP, acimaN, abaixoP, abaixoN)"
      ],
      "metadata": {
        "colab": {
          "base_uri": "https://localhost:8080/"
        },
        "outputId": "4cb3bff3-6ee5-48d8-c26a-7870978b6ad3",
        "id": "SS4g2GPxc7dY"
      },
      "execution_count": null,
      "outputs": [
        {
          "output_type": "display_data",
          "data": {
            "text/plain": [
              "<Figure size 432x288 with 1 Axes>"
            ],
            "image/png": "[encoded data removed]"
          },
          "metadata": {
            "needs_background": "light"
          }
        },
        {
          "output_type": "stream",
          "name": "stdout",
          "text": [
            "Envoltória 1\n",
            "\n",
            "Precisão:   0.47641509433962265 \n",
            "Revocação:  1.0 \n",
            "F1-escore:  0.6453674121405751 \n",
            "\n",
            "Envoltória 2\n",
            "\n",
            "Precisão:   1.0 \n",
            "Revocação:  0.8074324324324325 \n",
            "F1-escore:  0.8934579439252337\n"
          ]
        }
      ]
    },
    {
      "cell_type": "markdown",
      "source": [
        "### Teste #8"
      ],
      "metadata": {
        "id": "9DF39RxDc7lm"
      }
    },
    {
      "cell_type": "code",
      "source": [
        "#Entrada para o teste\n",
        "link = 'https://media.githubusercontent.com/media/Mereep/keel_csv/master/standard_classification/onehot/segment.prepared.csv'\n",
        "atribute1 = 1\n",
        "atribute2 = 17\n",
        "\n",
        "\n",
        "#Inicializa os pontos de cada envoltória\n",
        "points0, points1 = recebeDados(link, atribute1,atribute2)\n",
        "\n",
        "#Constrói envoltórias\n",
        "envoltoria0 = graham(points0)\n",
        "envoltoria1 = graham(points1)\n",
        "\n",
        "#Segmenta envoltória para desenha-la no grafico\n",
        "s1 = segmentoEnvoltoria(envoltoria0,0)\n",
        "s2 = segmentoEnvoltoria(envoltoria1,1)\n",
        "for i in s1:\n",
        "  x1 = []\n",
        "  y1 = []\n",
        "  x1.append(i.endpointA.x)\n",
        "  x1.append(i.endpointB.x)\n",
        "  y1.append(i.endpointA.y)\n",
        "  y1.append(i.endpointB.y)\n",
        "  plt.plot(x1,y1,'r')\n",
        "\n",
        "for j in s2:\n",
        "  x2 = []\n",
        "  y2 = []\n",
        "  x2.append(j.endpointA.x)\n",
        "  x2.append(j.endpointB.x)\n",
        "  y2.append(j.endpointA.y)\n",
        "  y2.append(j.endpointB.y)\n",
        "  plt.plot(x2,y2,'b')\n",
        "\n",
        "#Confere se é lin separavel\n",
        "sep = linSeparavel(envoltoria0,envoltoria1)\n",
        "a = 0\n",
        "b = 0\n",
        "xmid = 0\n",
        "\n",
        "#se for traça o gráfico\n",
        "if(sep):\n",
        "  a,b,xmid = modelo(envoltoria0,envoltoria1)\n",
        "\n",
        "  if(a == 0 and b == 0):\n",
        "    plt.axvline(xmid)\n",
        "  else:\n",
        "    x = np.linspace(-2,1.5,100)\n",
        "    y = a*x + b \n",
        "    equacao = 'y = ' + str(\"%.3f\" % a) + 'x+' + str(\"%.3f\" % b)\n",
        "    plt.plot(x,y,'k',label = equacao)\n",
        "    plt.xlim([-1.2,1.6])\n",
        "    plt.ylim([-3,3])\n",
        "\n",
        "\n",
        "  plt.legend()\n",
        "\n",
        "plt.show()\n",
        "\n",
        "# verifica qual envoltoria esta acima(1) e qual esta abaixo(-1) da reta e rotula de acordo\n",
        "if ( rotulaPonto(envoltoria0[0].x, envoltoria0[0].y, a, b) == 1 ):\n",
        "  acima = 0\n",
        "  abaixo = 1\n",
        "else:\n",
        "  acima = 1\n",
        "  abaixo = 0\n",
        "\n",
        "indA, indB, acimaP, acimaN, abaixoP, abaixoN = classifier(a, b, xmid, link, atribute1,atribute2, acima, abaixo)\n",
        "\n",
        "#calcula métrica\n",
        "calculaMetricas(indA, indB, acimaP, acimaN, abaixoP, abaixoN)"
      ],
      "metadata": {
        "colab": {
          "base_uri": "https://localhost:8080/"
        },
        "outputId": "6259506b-b019-42c5-a9e4-f8e43c0f1f81",
        "id": "yH9hLoBCc7lm"
      },
      "execution_count": null,
      "outputs": [
        {
          "output_type": "display_data",
          "data": {
            "text/plain": [
              "<Figure size 432x288 with 1 Axes>"
            ],
            "image/png": "[encoded data removed]"
          },
          "metadata": {
            "needs_background": "light"
          }
        },
        {
          "output_type": "stream",
          "name": "stdout",
          "text": [
            "Envoltória 1\n",
            "\n",
            "Precisão:   0.4786729857819905 \n",
            "Revocação:  1.0 \n",
            "F1-escore:  0.6474358974358975 \n",
            "\n",
            "Envoltória 2\n",
            "\n",
            "Precisão:   1.0 \n",
            "Revocação:  0.8141891891891891 \n",
            "F1-escore:  0.8975791433891993\n"
          ]
        }
      ]
    },
    {
      "cell_type": "markdown",
      "source": [
        "### Teste #9"
      ],
      "metadata": {
        "id": "QBP9lXgac7sR"
      }
    },
    {
      "cell_type": "code",
      "source": [
        "#Entrada para o teste\n",
        "link = 'https://media.githubusercontent.com/media/Mereep/keel_csv/master/standard_classification/onehot/segment.prepared.csv'\n",
        "atribute1 = 1\n",
        "atribute2 = 14\n",
        "\n",
        "#Inicializa os pontos de cada envoltória\n",
        "points0, points1 = recebeDados(link, atribute1,atribute2)\n",
        "\n",
        "#Constrói envoltórias\n",
        "envoltoria0 = graham(points0)\n",
        "envoltoria1 = graham(points1)\n",
        "\n",
        "#Segmenta envoltória para desenha-la no grafico\n",
        "s1 = segmentoEnvoltoria(envoltoria0,0)\n",
        "s2 = segmentoEnvoltoria(envoltoria1,1)\n",
        "for i in s1:\n",
        "  x1 = []\n",
        "  y1 = []\n",
        "  x1.append(i.endpointA.x)\n",
        "  x1.append(i.endpointB.x)\n",
        "  y1.append(i.endpointA.y)\n",
        "  y1.append(i.endpointB.y)\n",
        "  plt.plot(x1,y1,'r')\n",
        "\n",
        "for j in s2:\n",
        "  x2 = []\n",
        "  y2 = []\n",
        "  x2.append(j.endpointA.x)\n",
        "  x2.append(j.endpointB.x)\n",
        "  y2.append(j.endpointA.y)\n",
        "  y2.append(j.endpointB.y)\n",
        "  plt.plot(x2,y2,'b')\n",
        "\n",
        "#Confere se é lin separavel\n",
        "sep = linSeparavel(envoltoria0,envoltoria1)\n",
        "a = 0\n",
        "b = 0\n",
        "xmid = 0\n",
        "\n",
        "#se for traça o gráfico\n",
        "if(sep):\n",
        "  a,b,xmid = modelo(envoltoria0,envoltoria1)\n",
        "\n",
        "  if(a == 0 and b == 0):\n",
        "    plt.axvline(xmid)\n",
        "  else:\n",
        "    x = np.linspace(-2,1.5,100)\n",
        "    y = a*x + b \n",
        "    equacao = 'y = ' + str(\"%.3f\" % a) + 'x+' + str(\"%.3f\" % b)\n",
        "    plt.plot(x,y,'k',label = equacao)\n",
        "    plt.xlim([-1.2,1.6])\n",
        "    plt.ylim([-1.5,3])\n",
        "\n",
        "\n",
        "  plt.legend()\n",
        "\n",
        "plt.show()\n",
        "\n",
        "# verifica qual envoltoria esta acima(1) e qual esta abaixo(-1) da reta e rotula de acordo\n",
        "if ( rotulaPonto(envoltoria0[0].x, envoltoria0[0].y, a, b) == 1 ):\n",
        "  acima = 0\n",
        "  abaixo = 1\n",
        "else:\n",
        "  acima = 1\n",
        "  abaixo = 0\n",
        "\n",
        "indA, indB, acimaP, acimaN, abaixoP, abaixoN = classifier(a, b, xmid, link, atribute1,atribute2, acima, abaixo)\n",
        "\n",
        "#calcula métrica\n",
        "calculaMetricas(indA, indB, acimaP, acimaN, abaixoP, abaixoN)"
      ],
      "metadata": {
        "colab": {
          "base_uri": "https://localhost:8080/",
          "height": 460
        },
        "outputId": "4f94f564-6f1a-4354-b20a-68b853d9745c",
        "id": "BQAgI8jUc7sR"
      },
      "execution_count": null,
      "outputs": [
        {
          "output_type": "display_data",
          "data": {
            "text/plain": [
              "<Figure size 432x288 with 1 Axes>"
            ],
            "image/png": "[encoded data removed]"
          },
          "metadata": {
            "needs_background": "light"
          }
        },
        {
          "output_type": "stream",
          "name": "stdout",
          "text": [
            "Envoltória 1\n",
            "\n",
            "Precisão:   0.49029126213592233 \n",
            "Revocação:  1.0 \n",
            "F1-escore:  0.6579804560260586 \n",
            "\n",
            "Envoltória 2\n",
            "\n",
            "Precisão:   1.0 \n",
            "Revocação:  0.8226351351351351 \n",
            "F1-escore:  0.9026876737720111\n"
          ]
        }
      ]
    },
    {
      "cell_type": "markdown",
      "source": [
        "### Teste #10"
      ],
      "metadata": {
        "id": "owFISalIc7zC"
      }
    },
    {
      "cell_type": "code",
      "source": [
        "#Entrada para o teste\n",
        "link = 'https://media.githubusercontent.com/media/Mereep/keel_csv/master/standard_classification/onehot/segment.prepared.csv'\n",
        "atribute1 = 10\n",
        "atribute2 = 5\n",
        "\n",
        "\n",
        "#Inicializa os pontos de cada envoltória\n",
        "points0, points1 = recebeDados(link, atribute1,atribute2)\n",
        "\n",
        "#Constrói envoltórias\n",
        "envoltoria0 = graham(points0)\n",
        "envoltoria1 = graham(points1)\n",
        "\n",
        "#Segmenta envoltória para desenha-la no grafico\n",
        "s1 = segmentoEnvoltoria(envoltoria0,0)\n",
        "s2 = segmentoEnvoltoria(envoltoria1,1)\n",
        "for i in s1:\n",
        "  x1 = []\n",
        "  y1 = []\n",
        "  x1.append(i.endpointA.x)\n",
        "  x1.append(i.endpointB.x)\n",
        "  y1.append(i.endpointA.y)\n",
        "  y1.append(i.endpointB.y)\n",
        "  plt.plot(x1,y1,'r')\n",
        "\n",
        "for j in s2:\n",
        "  x2 = []\n",
        "  y2 = []\n",
        "  x2.append(j.endpointA.x)\n",
        "  x2.append(j.endpointB.x)\n",
        "  y2.append(j.endpointA.y)\n",
        "  y2.append(j.endpointB.y)\n",
        "  plt.plot(x2,y2,'b')\n",
        "\n",
        "#Confere se é lin separavel\n",
        "sep = linSeparavel(envoltoria0,envoltoria1)\n",
        "a = 0\n",
        "b = 0\n",
        "xmid = 0\n",
        "\n",
        "#se for traça o gráfico\n",
        "if(sep):\n",
        "  a,b,xmid = modelo(envoltoria0,envoltoria1)\n",
        "\n",
        "  if(a == 0 and b == 0):\n",
        "    plt.axvline(xmid)\n",
        "  else:\n",
        "    x = np.linspace(-2,1.5,100)\n",
        "    y = a*x + b \n",
        "    equacao = 'y = ' + str(\"%.3f\" % a) + 'x' + str(\"%.3f\" % b)\n",
        "    plt.plot(x,y,'k',label = equacao)\n",
        "    plt.xlim([-1.2,1])\n",
        "    plt.ylim([-1,11])\n",
        "\n",
        "\n",
        "  plt.legend()\n",
        "\n",
        "plt.show()\n",
        "\n",
        "# verifica qual envoltoria esta acima(1) e qual esta abaixo(-1) da reta e rotula de acordo\n",
        "if ( rotulaPonto(envoltoria0[0].x, envoltoria0[0].y, a, b) == 1 ):\n",
        "  acima = 0\n",
        "  abaixo = 1\n",
        "else:\n",
        "  acima = 1\n",
        "  abaixo = 0\n",
        "\n",
        "indA, indB, acimaP, acimaN, abaixoP, abaixoN = classifier(a, b, xmid, link, atribute1,atribute2, acima, abaixo)\n",
        "\n",
        "#calcula métrica\n",
        "calculaMetricas(indA, indB, acimaP, acimaN, abaixoP, abaixoN)"
      ],
      "metadata": {
        "colab": {
          "base_uri": "https://localhost:8080/",
          "height": 456
        },
        "outputId": "9b059141-d248-482f-e0aa-f91ca6b87348",
        "id": "DXRUWIl3c7zC"
      },
      "execution_count": null,
      "outputs": [
        {
          "output_type": "display_data",
          "data": {
            "text/plain": [
              "<Figure size 432x288 with 1 Axes>"
            ],
            "image/png": "[encoded data removed]"
          },
          "metadata": {
            "needs_background": "light"
          }
        },
        {
          "output_type": "stream",
          "name": "stdout",
          "text": [
            "Envoltória 1\n",
            "\n",
            "Precisão:   0.3098159509202454 \n",
            "Revocação:  1.0 \n",
            "F1-escore:  0.4730679156908665 \n",
            "\n",
            "Envoltória 2\n",
            "\n",
            "Precisão:   1.0 \n",
            "Revocação:  0.6199324324324325 \n",
            "F1-escore:  0.7653806047966633\n"
          ]
        }
      ]
    },
    {
      "cell_type": "markdown",
      "source": [
        "# Conclusão"
      ],
      "metadata": {
        "id": "Sslp4n69jRGU"
      }
    },
    {
      "cell_type": "markdown",
      "source": [
        "Ao longo deste trabalho aprendemos muito sobre a implementação dos algoritmos vistos em aula e seus desafios. Alem disso também tivemos que lidar com todas as complexidades que estão envolvidas com conjunto de dados reais e como melhor adaptá-los para nossas funções. Um aspecto particularmente interessante sobre este trabalho foi perceber falhas intrinsicas ao modelo que vêm de como o modelo em si é construído. O modelo considera dois conjuntos linearmente separáveis se há interseção entre as arestas de suas envoltórias, mas há um caso onde não são separáveis mas o algoritmo, do modo como foi requisitado, não consegue detectar: se uma envoltória estiver completamente dentro de outra. Outro aspecto pra se destacar é o modelo não ser otimizado pois nem sempre a menor distância entre as envoltórias é entre os vértices como foi mencionado anteriormente neste trabalho, o que nos deixa com retas que muitas vezes cortam envoltórias e são geralmente sub-ótimas. Tendo tudo isso em mente, este trabalho foi um processo de aprendizado muito bom e esclarecedor que certamente nos ajudou a fixar os conceitos de computação geométrica. "
      ],
      "metadata": {
        "id": "RMT_HOKgjVe0"
      }
    }
  ]
}